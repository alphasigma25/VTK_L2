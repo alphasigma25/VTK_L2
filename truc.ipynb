{
 "cells": [
  {
   "cell_type": "code",
   "execution_count": 1,
   "metadata": {
    "dotnet_interactive": {
     "language": "csharp"
    }
   },
   "outputs": [
    {
     "name": "stdout",
     "output_type": "stream",
     "text": [
      "(0.329, 0.631, 0.333)\n",
      "(0.357, 0.663, 0.318)\n",
      "(0.529, 0.478, 1.0)\n",
      "(0.478, 0.714, 0.376)\n",
      "(0.612, 0.757, 0.443)\n",
      "(0.545, 0.741, 0.412)\n",
      "(0.737, 0.812, 0.522)\n",
      "(0.725, 0.8, 0.51)\n",
      "(0.831, 0.831, 0.616)\n",
      "(0.882, 0.835, 0.725)\n",
      "(0.925, 0.859, 0.8)\n",
      "(0.949, 0.882, 0.867)\n",
      "(1.0, 1.0, 1.0)\n"
     ]
    }
   ],
   "source": [
    "def f(n):\n",
    "    n1 = round((n%0x100) / 255,3)\n",
    "    n2 = round((n%0x10000//0x100) / 255,3)\n",
    "    n3 = round((n//0x10000) / 255,3)\n",
    "    return (n3,n2,n1)\n",
    "\n",
    "print(f(0x54a155))\n",
    "print(f(0x5ba951))\n",
    "print(f(0x877aff))\n",
    "print(f(0x7ab660))\n",
    "print(f(0x9cc171))\n",
    "print(f(0x8bbd69))\n",
    "print(f(0xbccf85))\n",
    "print(f(0xb9cc82))\n",
    "print(f(0xd4d49d))\n",
    "print(f(0xe1d5b9))\n",
    "print(f(0xecdbcc))\n",
    "print(f(0xf2e1dd))\n",
    "print(f(0xffffff))\n"
   ]
  },
  {
   "cell_type": "markdown",
   "metadata": {},
   "source": [
    "```python\n",
    "lut.SetTableValue(0, 0.329, 0.631, 0.333, 1.0)\n",
    "lut.SetTableValue(1, 0.612, 0.757, 0.443, 1.0)\n",
    "lut.SetTableValue(2, 0.357, 0.663, 0.318, 1.0)\n",
    "lut.SetTableValue(3, 0.545, 0.741, 0.412, 1.0)\n",
    "lut.SetTableValue(4, 0.737, 0.812, 0.522, 1.0)\n",
    "lut.SetTableValue(5, 0.725, 0.800, 0.510, 1.0)\n",
    "lut.SetTableValue(6, 0.831, 0.831, 0.616, 1.0)\n",
    "lut.SetTableValue(7, 0.882, 0.835, 0.725, 1.0)\n",
    "lut.SetTableValue(8, 0.925, 0.859, 0.800, 1.0)\n",
    "lut.SetTableValue(9, 0.949, 0.882, 0.867, 1.0)\n",
    "lut.SetTableValue(10, 1.000, 1.000, 1.000, 1.0)\n",
    "```"
   ]
  }
 ],
 "metadata": {
  "interpreter": {
   "hash": "14aa46306fae36d852a92489268e36dd220b531073191cd669318b2a9ac2e81e"
  },
  "kernelspec": {
   "display_name": "Python 3.9.7 ('base')",
   "language": "python",
   "name": "python3"
  },
  "language_info": {
   "codemirror_mode": {
    "name": "ipython",
    "version": 3
   },
   "file_extension": ".py",
   "mimetype": "text/x-python",
   "name": "python",
   "nbconvert_exporter": "python",
   "pygments_lexer": "ipython3",
   "version": "3.9.7"
  },
  "orig_nbformat": 4
 },
 "nbformat": 4,
 "nbformat_minor": 2
}
