{
 "cells": [
  {
   "cell_type": "code",
   "execution_count": null,
   "metadata": {
    "dotnet_interactive": {
     "language": "csharp"
    }
   },
   "outputs": [],
   "source": [
    "def f(n):\n",
    "    n1 = round((n%0x100) / 255,3)\n",
    "    n2 = round((n%0x10000//0x100) / 255,3)\n",
    "    n3 = round((n//0x10000) / 255,3)\n",
    "    return (n3,n2,n1)\n",
    "\n",
    "print(f(0x877aff))\n",
    "print(f(0x7ab660))\n",
    "print(f(0x9cc171))\n",
    "print(f(0x8bbd69))\n",
    "print(f(0xbccf85))\n",
    "print(f(0xb9cc82))\n",
    "print(f(0xd4d49d))\n",
    "print(f(0xe1d5b9))\n",
    "print(f(0xecdbcc))\n",
    "print(f(0xf2e1dd))\n",
    "print(f(0xffffff))\n"
   ]
  }
 ],
 "metadata": {
  "interpreter": {
   "hash": "13f2a4725a25f71bd2d9c80b8ddf53f290e45246f5c70aaad4a10e7a08fa7d22"
  },
  "kernelspec": {
   "display_name": ".NET (C#)",
   "language": "python",
   "name": "python3"
  },
  "language_info": {
   "codemirror_mode": {
    "name": "ipython",
    "version": 3
   },
   "file_extension": ".py",
   "mimetype": "text/x-python",
   "name": "python",
   "nbconvert_exporter": "python",
   "pygments_lexer": "ipython3",
   "version": "3.10.4"
  },
  "orig_nbformat": 4
 },
 "nbformat": 4,
 "nbformat_minor": 2
}
